{
 "cells": [
  {
   "cell_type": "markdown",
   "metadata": {},
   "source": [
    "Create holes on a regular grid"
   ]
  },
  {
   "cell_type": "code",
   "execution_count": 165,
   "metadata": {},
   "outputs": [],
   "source": [
    "import random\n",
    "import csv\n",
    "import pandas as pd\n",
    "import matplotlib.pyplot as plt"
   ]
  },
  {
   "cell_type": "code",
   "execution_count": 166,
   "metadata": {},
   "outputs": [],
   "source": [
    "def generate_grid_collars(grid_size, spacing, elevation, origin_x, origin_y):\n",
    "    \"\"\"\n",
    "    Generate drillhole collars on a regular grid with a custom origin.\n",
    "    \n",
    "    :param grid_size: Tuple (rows, cols) defining the grid dimensions\n",
    "    :param spacing: Spacing between drillholes\n",
    "    :param z_min: Minimum Z value for elevation\n",
    "    :param z_max: Maximum Z value for elevation\n",
    "    :param origin_x: X coordinate for the origin\n",
    "    :param origin_y: Y coordinate for the origin\n",
    "    :return: List of dictionaries containing collar data\n",
    "    \"\"\"\n",
    "    rows, cols = grid_size\n",
    "    collars = []\n",
    "    z=elevation\n",
    "    for i in range(rows):\n",
    "        for j in range(cols):\n",
    "            drillhole_id = f'DH{i*cols + j + 1:04d}'  # Generate drillhole ID e.g., DH0001\n",
    "            x = origin_x + j * spacing\n",
    "            y = origin_y + i * spacing\n",
    "            #z = random.uniform(z_min, z_max)\n",
    "            \n",
    "            collar = {\n",
    "                'ID': drillhole_id,\n",
    "                'X': x,\n",
    "                'Y': y,\n",
    "                'Z': z\n",
    "            }\n",
    "            collars.append(collar)\n",
    "    \n",
    "    return collars\n"
   ]
  },
  {
   "cell_type": "code",
   "execution_count": 167,
   "metadata": {},
   "outputs": [],
   "source": [
    "def generate_survey_and_assay_data(collars, maxHoleLength, origin_x, background_means, background_stds, high_grade_prob, high_grade_means, high_grade_stds, gradient_factor):\n",
    "    \"\"\"\n",
    "    Generate survey and assay data for each drillhole.\n",
    "    \n",
    "    :param collars: List of collar data\n",
    "    :param num_intervals_min: Minimum number of intervals per drillhole\n",
    "    :param num_intervals_max: Maximum number of intervals per drillhole\n",
    "    :param background_means: Dictionary with mean values for background assays\n",
    "    :param background_stds: Dictionary with standard deviations for background assays\n",
    "    :param high_grade_prob: Probability of encountering high-grade zones\n",
    "    :param high_grade_means: Dictionary with mean values for high-grade assays (for log-normal distribution)\n",
    "    :param high_grade_stds: Dictionary with standard deviations for high-grade assays (for log-normal distribution)\n",
    "    :param gradient_factor: Factor to apply the mineral trend in the X direction\n",
    "    :return: Lists of dictionaries containing survey and assay data\n",
    "    \"\"\"\n",
    "    surveys = []\n",
    "    assays = []\n",
    "    \n",
    "\n",
    "    azimuth=10\n",
    "    dip = 75\n",
    "\n",
    "    for collar in collars:\n",
    "        drillhole_id = collar['ID']\n",
    "        from_depth = 0.0\n",
    "        num_intervals = maxHoleLength # random.randint(num_intervals_min, num_intervals_max)\n",
    "        \n",
    "        x_position = collar['X']\n",
    "        \n",
    "        for _ in range(num_intervals):\n",
    "            \n",
    "            to_depth = from_depth + 1 # random.uniform(1, 50)  # Example interval length\n",
    "            #azimuth = random.uniform(0, 360)  # Azimuth in degrees\n",
    "            #dip = random.uniform(-90, 90)    # Dip in degrees\n",
    "            \n",
    "            # Survey data\n",
    "            survey = {\n",
    "                'ID': drillhole_id,\n",
    "                'From': from_depth,\n",
    "                'Azimuth': azimuth,\n",
    "                'Dip': dip\n",
    "            }\n",
    "            surveys.append(survey)\n",
    "            \n",
    "            # Assay data\n",
    "            if random.random() < high_grade_prob:\n",
    "                # High-grade zone\n",
    "                au_assay = round(random.normalvariate(high_grade_means['Au'], high_grade_stds['Au']), 2)\n",
    "                cu_assay = round(random.normalvariate(high_grade_means['Cu'], high_grade_stds['Cu']), 2)\n",
    "                ag_assay = round(random.normalvariate(high_grade_means['Ag'], high_grade_stds['Ag']), 2)\n",
    "            else:\n",
    "                # Background values\n",
    "                au_assay = round(random.normalvariate(background_means['Au'], background_stds['Au']), 2)\n",
    "                cu_assay = round(random.normalvariate(background_means['Cu'], background_stds['Cu']), 2)\n",
    "                ag_assay = round(random.normalvariate(background_means['Ag'], background_stds['Ag']), 2)\n",
    "            \n",
    "            # Apply gradient factor\n",
    "            au_assay += gradient_factor * (x_position - origin_x)\n",
    "            cu_assay += gradient_factor * (x_position - origin_x)\n",
    "            ag_assay += gradient_factor * (x_position - origin_x)\n",
    "            \n",
    "            cu_assay=round(random.uniform(0.01, high_grade_means['Cu']),2) if cu_assay<=0 else cu_assay\n",
    "            au_assay=au_assay*(-1) if au_assay<0 else au_assay\n",
    "            ag_assay=ag_assay*(-1) if ag_assay<0 else ag_assay\n",
    "\n",
    "            assay = {\n",
    "                'ID': drillhole_id,\n",
    "                'From': from_depth,\n",
    "                'To': to_depth,\n",
    "                'Au': max(au_assay,0),  # Ensure no negative values\n",
    "                'Cu': cu_assay,  # Ensure no negative values\n",
    "                'Ag': ag_assay   # Ensure no negative values\n",
    "            }\n",
    "            assays.append(assay)\n",
    "            \n",
    "            from_depth = to_depth  # Set the start of the next interval to the end of the current one\n",
    "    \n",
    "    return surveys, assays"
   ]
  },
  {
   "cell_type": "code",
   "execution_count": 168,
   "metadata": {},
   "outputs": [],
   "source": [
    "def write_data_to_csv(data, file_name, fieldnames):\n",
    "    \"\"\"\n",
    "    Write the list of data to a CSV file.\n",
    "    \n",
    "    :param data: List of dictionaries containing the data\n",
    "    :param file_name: Name of the CSV file\n",
    "    :param fieldnames: List of fieldnames for the CSV file\n",
    "    \"\"\"\n",
    "    with open(file_name, mode='w', newline='') as file:\n",
    "        writer = csv.DictWriter(file, fieldnames=fieldnames)\n",
    "        writer.writeheader()\n",
    "        writer.writerows(data)"
   ]
  },
  {
   "cell_type": "code",
   "execution_count": 163,
   "metadata": {},
   "outputs": [
    {
     "name": "stdout",
     "output_type": "stream",
     "text": [
      "Data has been written to collars.csv, surveys.csv, and assays.csv\n"
     ]
    },
    {
     "data": {
      "image/png": "[encoded data removed]",
      "text/plain": [
       "<Figure size 640x480 with 1 Axes>"
      ]
     },
     "metadata": {},
     "output_type": "display_data"
    }
   ],
   "source": [
    "# Configuration\n",
    "grid_size = (25, 25)  # 20 rows by 20 columns\n",
    "spacing = 12.5  # 20 units spacing between drillholes\n",
    "hole_length = 20 #drillhole length required\n",
    "\n",
    "elevation = 990\n",
    "\n",
    "origin_x = 1527734  # Custom X coordinate origin\n",
    "origin_y = 725715  # Custom Y coordinate origin\n",
    "\n",
    "gradient_factor = 0.005  # Factor to apply the mineral trend\n",
    "\n",
    "# Mean and standard deviation for background assay values (for normal distribution)\n",
    "background_means = {'Au': 0.1, 'Cu': 1.5, 'Ag': 2}\n",
    "background_stds = {'Au': 0.05, 'Cu': 0.5, 'Ag': 1}\n",
    "\n",
    "# Probability of encountering high-grade zones\n",
    "high_grade_prob = 0.65  # 10% chance of a high-grade interval\n",
    "\n",
    "# Mean and standard deviation for high-grade assay values (for log-normal distribution)\n",
    "high_grade_means = {'Au': 5, 'Cu': 2.5, 'Ag': 25}\n",
    "high_grade_stds = {'Au': 0.4, 'Cu': 0.5, 'Ag': 0.5}\n",
    "\n",
    "# Generate collars on a grid with custom origin\n",
    "collars = generate_grid_collars(grid_size, spacing, elevation, origin_x, origin_y)\n",
    "\n",
    "# Generate survey and assay data\n",
    "surveys, assays = generate_survey_and_assay_data(collars, hole_length, origin_x, background_means, background_stds, high_grade_prob, high_grade_means, high_grade_stds, gradient_factor)\n",
    "\n",
    "# Write data to CSV files\n",
    "write_data_to_csv(collars, 'collars.csv', ['ID', 'X', 'Y', 'Z'])\n",
    "write_data_to_csv(surveys, 'surveys.csv', ['ID', 'From', 'Azimuth', 'Dip'])\n",
    "write_data_to_csv(assays, 'assays.csv', ['ID', 'From', 'To', 'Au', 'Cu', 'Ag'])\n",
    "\n",
    "print(\"Data has been written to collars.csv, surveys.csv, and assays.csv\")\n",
    "\n",
    "myp = df[['Cu']].plot.hist(subplots=True,bins=60)"
   ]
  },
  {
   "cell_type": "code",
   "execution_count": 164,
   "metadata": {},
   "outputs": [],
   "source": [
    "#plt.subplot=True\n",
    "#plt.title('Histogram : Some Element')\n",
    "#plt.xlabel('Cu')\n",
    "#plt.ylabel('Fregquency')\n",
    "#plt.legend(('Cu'))\n",
    "\n",
    "#cu_plt = plt.hist(df[['Cu','Au','Ag']],bins=50,label='CU',color=['grey','blue','black'])"
   ]
  }
 ],
 "metadata": {
  "kernelspec": {
   "display_name": "base",
   "language": "python",
   "name": "python3"
  },
  "language_info": {
   "codemirror_mode": {
    "name": "ipython",
    "version": 3
   },
   "file_extension": ".py",
   "mimetype": "text/x-python",
   "name": "python",
   "nbconvert_exporter": "python",
   "pygments_lexer": "ipython3",
   "version": "3.11.5"
  }
 },
 "nbformat": 4,
 "nbformat_minor": 2
}
